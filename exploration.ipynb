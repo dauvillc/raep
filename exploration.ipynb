{
 "cells": [
  {
   "cell_type": "markdown",
   "id": "2db4352b-9589-4ae4-8e3b-f4f5454fccfc",
   "metadata": {},
   "source": [
    "# Imports"
   ]
  },
  {
   "cell_type": "code",
   "execution_count": 1,
   "id": "cf1fe87f-63d5-4002-95df-4b4346591e66",
   "metadata": {},
   "outputs": [],
   "source": [
    "import matplotlib.pyplot as plt\n",
    "import numpy as np\n",
    "import pandas as pd\n",
    "import re\n",
    "from copy import deepcopy\n",
    "from bs4 import BeautifulSoup, NavigableString\n",
    "from unicodedata import normalize as uni_normalize\n",
    "from matplotlib import cm"
   ]
  },
  {
   "cell_type": "markdown",
   "id": "b5b98185-714a-4e53-ba55-75a5627b26fd",
   "metadata": {},
   "source": [
    "# Working on HTML versions"
   ]
  },
  {
   "cell_type": "markdown",
   "id": "3334a6dc-50d0-418a-875c-d362daeecfdc",
   "metadata": {},
   "source": [
    "## Parsing the HTML file\n",
    "Let's first read the html file extracted from the REME PDF:"
   ]
  },
  {
   "cell_type": "code",
   "execution_count": 2,
   "id": "8ad0ee97-12bc-44e4-8866-16d81c699196",
   "metadata": {},
   "outputs": [],
   "source": [
    "HTML_FILE = \"docs/html_pages/rep_metiers-16.html\""
   ]
  },
  {
   "cell_type": "code",
   "execution_count": 3,
   "id": "5c14625f-a207-4f60-ba2a-fe78eddca184",
   "metadata": {},
   "outputs": [],
   "source": [
    "with open(HTML_FILE, \"r\") as reme_html:\n",
    "    full_html = reme_html.read()"
   ]
  },
  {
   "cell_type": "code",
   "execution_count": 4,
   "id": "1e8d8fee-5fac-47bc-a087-4b242af9cbc1",
   "metadata": {},
   "outputs": [],
   "source": [
    "soup = BeautifulSoup(full_html)"
   ]
  },
  {
   "cell_type": "markdown",
   "id": "fb0648e6-9caf-4d13-8271-09e3a850fd46",
   "metadata": {},
   "source": [
    "## Extracting all < p > elements and preprocessing"
   ]
  },
  {
   "cell_type": "markdown",
   "id": "6d4aa6dc-bdbd-4f2d-967c-1b4a4fd3eee1",
   "metadata": {},
   "source": [
    "We'll begin by deleting all HTML tags that do not contain any human-readable text:"
   ]
  },
  {
   "cell_type": "code",
   "execution_count": 5,
   "id": "9511beaa-2d8b-49f7-a68f-66ed9f7e6ac5",
   "metadata": {},
   "outputs": [],
   "source": [
    "for tag in soup.find_all():\n",
    "    if len(tag.get_text(strip=True)) == 0:\n",
    "        tag.extract()"
   ]
  },
  {
   "cell_type": "code",
   "execution_count": 6,
   "id": "f37a1988-a668-477d-afb3-2bc80fcd4c57",
   "metadata": {},
   "outputs": [],
   "source": [
    "paragraphs = soup.find_all('p')"
   ]
  },
  {
   "cell_type": "markdown",
   "id": "6fc31748-1ae9-4c6d-a741-cff579ca1845",
   "metadata": {},
   "source": [
    "Now, < p > objects do not always directly contain their text in their ```.string``` attribute.  \n",
    "Instead, the full text contained within a p element and recursively in its children can be obtained via ```get_text()```.  \n",
    "We'll thus set the ```string``Now, < p > objects do not always directly contain their text in their .string attribute.\n",
    "Instead, the full text contained within a p element and recursively in its children can be obtained via get_text().\n",
    "We'll thus set the string attribute to the value of get_text(), and then remove all children, and this for all < p > tags.` attribute to the value of ```get_text()```, and then remove all children, and this for all\n",
    "< p > tags.  \n",
    "  \n",
    "**Note**: this will also remove any formatting such as with < b > tags."
   ]
  },
  {
   "cell_type": "code",
   "execution_count": 7,
   "id": "1b210689-453d-4b6f-bfca-931cccb39a61",
   "metadata": {},
   "outputs": [],
   "source": [
    "for par in paragraphs:\n",
    "    # Retrieves all of the text contained in the <p> tag\n",
    "    string = par.get_text()\n",
    "    # Removes all children of the <p> tag\n",
    "    for child in par.children:\n",
    "        child.extract()\n",
    "    # Sets the same text as before as raw text within the <p>\n",
    "    par.string = string"
   ]
  },
  {
   "cell_type": "markdown",
   "id": "6938d746-9304-45a3-b8a0-33c4a243cb8b",
   "metadata": {},
   "source": [
    "Moreover, occurences of \"1er\", \"2nd\" and \"3eme\" are counted as separate paragraphs by pdftohtml.\n",
    "We thus need to remerge them together:"
   ]
  },
  {
   "cell_type": "code",
   "execution_count": 8,
   "id": "98dc1bd5-e974-41fd-94ec-970be81e8ef7",
   "metadata": {},
   "outputs": [],
   "source": [
    "# We'll use a manual iterator instead of a for loop as we want to skip\n",
    "# elements during the loop\n",
    "par_iter = iter(paragraphs)\n",
    "# During the loop, will always be the last <p> tag that has been kept.\n",
    "prev_par = None\n",
    "# List that will contain the paragraphs that have been kept\n",
    "new_list = []\n",
    "\n",
    "while True:\n",
    "    try:\n",
    "        par = next(par_iter)\n",
    "        text = par.get_text()\n",
    "        if text in ['er', 'nd', 'eme']:\n",
    "            # Adds to the previous paragraph the content of this one and the next one too\n",
    "            # Ex: \"Assistance éducative 1\" + \"er\" + \"degré\"\n",
    "            next_par = next(par_iter)\n",
    "            prev_par.string.replace_with(prev_par.get_text() + text + \" \" + next_par.get_text())\n",
    "            # Removes the current and next <p> from the page as their content is now in\n",
    "            # the previous <p>\n",
    "            par.extract()\n",
    "            next_par.extract()\n",
    "        else:\n",
    "            # Adds the paragraph to the list of kept paragraphs\n",
    "            new_list.append(par)\n",
    "            # Updates the previous <p> tag\n",
    "            prev_par = par\n",
    "    except StopIteration:\n",
    "        break\n",
    "# Update the list of <p> tags to only the ones that have been kept\n",
    "paragraphs = new_list"
   ]
  },
  {
   "cell_type": "markdown",
   "id": "83f59cb8-2bd4-415e-bf7b-3b9d2f06b8dc",
   "metadata": {},
   "source": [
    "## Cleaning the text"
   ]
  },
  {
   "cell_type": "markdown",
   "id": "09980e78-a279-4f53-b828-d86c5404ec53",
   "metadata": {},
   "source": [
    "We'll replace all non-breaking space characters ```&nbsp``` with usual whitespaces:"
   ]
  },
  {
   "cell_type": "code",
   "execution_count": 9,
   "id": "182650ec-6083-4b42-b48c-8a5057fef347",
   "metadata": {},
   "outputs": [],
   "source": [
    "for par in paragraphs:\n",
    "    par.string = par.string.replace(u'\\xa0', ' ')"
   ]
  },
  {
   "cell_type": "markdown",
   "id": "1cca8c07-7119-4fe5-8a47-c4d82d18eab2",
   "metadata": {},
   "source": [
    "## Extracting the locations"
   ]
  },
  {
   "cell_type": "code",
   "execution_count": 10,
   "id": "2551c688-ed17-4ae1-8b2c-8ad699df66e9",
   "metadata": {},
   "outputs": [],
   "source": [
    "def get_pos(p_object):\n",
    "    \"\"\"\n",
    "    Retrieves the position of a <p> object from its style attribute.\n",
    "    Returns a pair (top, left) in pixels.\n",
    "    \"\"\"\n",
    "    top, left = re.findall('[0-9]+', p_object.attrs['style'])\n",
    "    return int(top), int(left)"
   ]
  },
  {
   "cell_type": "code",
   "execution_count": 11,
   "id": "ea46ef10-fff6-440c-a20a-afcae9d4fc95",
   "metadata": {},
   "outputs": [],
   "source": [
    "locations = [get_pos(par) for par in paragraphs]\n",
    "# Map (top, left) --> <p> object\n",
    "tops, lefts = [x for x, y in locations], [y for x, y in locations]"
   ]
  },
  {
   "cell_type": "code",
   "execution_count": 12,
   "id": "8d9a8d39-9bd2-4eaf-9822-8225b66b7643",
   "metadata": {},
   "outputs": [
    {
     "data": {
      "text/plain": [
       "<matplotlib.collections.PathCollection at 0x7f25b7c65df0>"
      ]
     },
     "execution_count": 12,
     "metadata": {},
     "output_type": "execute_result"
    },
    {
     "data": {
      "image/png": "[encoded data removed]",
      "text/plain": [
       "<Figure size 432x288 with 1 Axes>"
      ]
     },
     "metadata": {
      "needs_background": "light"
     },
     "output_type": "display_data"
    }
   ],
   "source": [
    "plt.scatter(tops, lefts)"
   ]
  },
  {
   "cell_type": "markdown",
   "id": "5813e402-8c6f-444d-8755-faae25897019",
   "metadata": {},
   "source": [
    "## Clustering into paragraphs"
   ]
  },
  {
   "cell_type": "code",
   "execution_count": 13,
   "id": "c76a7be5-ef12-47e7-a76d-5526449ea802",
   "metadata": {},
   "outputs": [
    {
     "name": "stderr",
     "output_type": "stream",
     "text": [
      "/home/clement/.conda/envs/raep/lib/python3.9/site-packages/scipy/__init__.py:146: UserWarning: A NumPy version >=1.16.5 and <1.23.0 is required for this version of SciPy (detected version 1.23.1\n",
      "  warnings.warn(f\"A NumPy version >={np_minversion} and <{np_maxversion}\"\n"
     ]
    }
   ],
   "source": [
    "from sklearn.mixture import GaussianMixture\n",
    "from sklearn.cluster import AgglomerativeClustering\n",
    "from scipy.spatial import distance_matrix"
   ]
  },
  {
   "cell_type": "code",
   "execution_count": 14,
   "id": "636271b2-c15f-44ee-91be-1cfae187f173",
   "metadata": {},
   "outputs": [
    {
     "data": {
      "text/plain": [
       "(93, 2)"
      ]
     },
     "execution_count": 14,
     "metadata": {},
     "output_type": "execute_result"
    }
   ],
   "source": [
    "X = np.array([tops, lefts]).T\n",
    "X.shape"
   ]
  },
  {
   "cell_type": "code",
   "execution_count": 15,
   "id": "ba556f61-5160-406f-a441-2c9e8474054f",
   "metadata": {},
   "outputs": [
    {
     "data": {
      "text/plain": [
       "<matplotlib.collections.PathCollection at 0x7f25b4064f10>"
      ]
     },
     "execution_count": 15,
     "metadata": {},
     "output_type": "execute_result"
    },
    {
     "data": {
      "image/png": "[encoded data removed]",
      "text/plain": [
       "<Figure size 720x720 with 1 Axes>"
      ]
     },
     "metadata": {
      "needs_background": "light"
     },
     "output_type": "display_data"
    }
   ],
   "source": [
    "pred = AgglomerativeClustering(linkage=\"single\", distance_threshold=30,\n",
    "                               n_clusters=None,\n",
    "                               affinity=\"l1\").fit_predict(X)\n",
    "plt.figure(figsize=(10, 10))\n",
    "plt.scatter(tops, lefts, c=pred, cmap=\"tab20\")"
   ]
  },
  {
   "cell_type": "code",
   "execution_count": 16,
   "id": "4094b107-99b9-43cc-b8f2-3dd75ea6d868",
   "metadata": {},
   "outputs": [],
   "source": [
    "n_clusters = pred.max() + 1\n",
    "clusters = [[] for _ in range(n_clusters)]\n",
    "for i, prediction in enumerate(pred):\n",
    "    clusters[prediction].append(paragraphs[i])"
   ]
  },
  {
   "cell_type": "markdown",
   "id": "19fd5c37-0fdb-47ee-b291-343184b0adda",
   "metadata": {},
   "source": [
    "## Visualizing clusters\n",
    "We'll now create a copy the HTML page upon which will be drawn shapes to delimit the clusters in the doc."
   ]
  },
  {
   "cell_type": "code",
   "execution_count": 17,
   "id": "5ae7b9b2-20e4-46c1-9fa1-5edd2cb80386",
   "metadata": {},
   "outputs": [],
   "source": [
    "cmap = cm.get_cmap('tab20')"
   ]
  },
  {
   "cell_type": "code",
   "execution_count": 18,
   "id": "ce9049a5-ab79-48c7-ae72-d0faf50f317b",
   "metadata": {},
   "outputs": [],
   "source": [
    "for k, cluster in enumerate(clusters):\n",
    "    # Assign a color to the cluster\n",
    "    color = cmap(k / n_clusters, bytes=True)\n",
    "    # Assign that color as background to all elements in that cluster\n",
    "    for elem in cluster:\n",
    "        elem['style'] += \";background-color:rgba({}, {}, {}, 0.3);\".format(*color)\n",
    "        # We also add an artificial attribute to indicate the cluster\n",
    "        elem['cluster'] = k"
   ]
  },
  {
   "cell_type": "markdown",
   "id": "1410c188-89a2-4cf9-a68a-2ea032bf428a",
   "metadata": {},
   "source": [
    "We'll save the new HTML file so that we can open it with a browser:"
   ]
  },
  {
   "cell_type": "code",
   "execution_count": 19,
   "id": "3b9c284e-826e-489b-9981-56a5ac07bd57",
   "metadata": {},
   "outputs": [],
   "source": [
    "NEW_HTML_FILE = \"visu_docs/page16.html\"\n",
    "with open(NEW_HTML_FILE, \"w\") as file:\n",
    "    file.write(str(soup))"
   ]
  }
 ],
 "metadata": {
  "kernelspec": {
   "display_name": "Python 3 (ipykernel)",
   "language": "python",
   "name": "python3"
  },
  "language_info": {
   "codemirror_mode": {
    "name": "ipython",
    "version": 3
   },
   "file_extension": ".py",
   "mimetype": "text/x-python",
   "name": "python",
   "nbconvert_exporter": "python",
   "pygments_lexer": "ipython3",
   "version": "3.9.13"
  }
 },
 "nbformat": 4,
 "nbformat_minor": 5
}
